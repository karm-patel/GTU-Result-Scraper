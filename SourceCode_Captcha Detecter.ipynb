{
 "cells": [
  {
   "cell_type": "markdown",
   "metadata": {},
   "source": [
    "## Importing Libraries"
   ]
  },
  {
   "cell_type": "code",
   "execution_count": 9,
   "metadata": {},
   "outputs": [],
   "source": [
    "from PIL import Image\n",
    "from selenium import webdriver\n",
    "from selenium.webdriver.common.keys import Keys\n",
    "import pytesseract\n",
    "import cv2 \n",
    "import numpy as np\n",
    "from PIL import Image"
   ]
  },
  {
   "cell_type": "markdown",
   "metadata": {},
   "source": [
    "## Path to Chromedriver"
   ]
  },
  {
   "cell_type": "code",
   "execution_count": 10,
   "metadata": {},
   "outputs": [],
   "source": [
    "DRIVER = '/home/kinetic/chromedriver_linux64/chromedriver'"
   ]
  },
  {
   "cell_type": "markdown",
   "metadata": {},
   "source": [
    "## Logic to detect captchas"
   ]
  },
  {
   "cell_type": "code",
   "execution_count": 11,
   "metadata": {},
   "outputs": [],
   "source": [
    "def binirize(image_to_transform,threshold):\n",
    "    image = image_to_transform.convert(\"L\")\n",
    "    w = image.width\n",
    "    h = image.height\n",
    "    for x in range(w):\n",
    "        for y in range(h):\n",
    "            if image.getpixel((x,y)) < threshold:\n",
    "                image.putpixel((x,y),0)\n",
    "            else:\n",
    "                image.putpixel((x,y),255)\n",
    "    return image\n",
    "def text_captcha(captcha_image):\n",
    "    new_size=(captcha_image.width*3,captcha_image.height*3)\n",
    "    bigcaptcha = captcha_image.resize(new_size)\n",
    "    img=binirize(bigcaptcha,160)\n",
    "    w = img.width\n",
    "    h = img.height\n",
    "    #remove black line from captcha(which lie on pixel 52 to 58 in vertical direction)\n",
    "    for y in range(52,58):\n",
    "        for x in range(0,w):\n",
    "            if img.getpixel((x,y-1)) < 100:\n",
    "                continue\n",
    "            img.putpixel((x,y),255)\n",
    "    #display(img)        \n",
    "    return pytesseract.image_to_string(img)"
   ]
  },
  {
   "cell_type": "code",
   "execution_count": 14,
   "metadata": {},
   "outputs": [
    {
     "name": "stdout",
     "output_type": "stream",
     "text": [
      "Captcha Image: \n"
     ]
    },
    {
     "data": {
      "image/png": "[encoded data removed]",
      "text/plain": [
       "<PIL.Image.Image image mode=RGBA size=111x30 at 0x7F2331271410>"
      ]
     },
     "metadata": {},
     "output_type": "display_data"
    },
    {
     "name": "stdout",
     "output_type": "stream",
     "text": [
      "Captcha Text\n",
      " 7cO7c\n"
     ]
    }
   ],
   "source": [
    "driver = webdriver.Chrome(DRIVER)\n",
    "driver.get(\"http://gturesults.in/\");\n",
    "screenshot = driver.save_screenshot('cap.png')\n",
    "driver.quit()\n",
    "img=Image.open('cap.png')\n",
    "bounding_box = (219,220,330,250)\n",
    "captcha=img.crop(bounding_box)\n",
    "print(\"Captcha Image: \")\n",
    "display(captcha)\n",
    "captcha_text = text_captcha(captcha)\n",
    "print(\"Captcha Text\\n\",captcha_text)"
   ]
  },
  {
   "cell_type": "code",
   "execution_count": null,
   "metadata": {},
   "outputs": [],
   "source": []
  }
 ],
 "metadata": {
  "kernelspec": {
   "display_name": "Python 3",
   "language": "python",
   "name": "python3"
  },
  "language_info": {
   "codemirror_mode": {
    "name": "ipython",
    "version": 3
   },
   "file_extension": ".py",
   "mimetype": "text/x-python",
   "name": "python",
   "nbconvert_exporter": "python",
   "pygments_lexer": "ipython3",
   "version": "3.7.6"
  }
 },
 "nbformat": 4,
 "nbformat_minor": 4
}
